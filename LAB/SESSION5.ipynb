{
 "cells": [
  {
   "cell_type": "code",
   "execution_count": 1,
   "metadata": {},
   "outputs": [],
   "source": [
    "import numpy as np"
   ]
  },
  {
   "cell_type": "code",
   "execution_count": 18,
   "metadata": {},
   "outputs": [
    {
     "name": "stdout",
     "output_type": "stream",
     "text": [
      "Left Riemann Sum:  27.44\n",
      "Right Riemann Sum:  32.64\n",
      "30.04\n",
      "Mid Riemann Sum:  29.980000000000004\n",
      "Trapezoid Sum:  30.04\n"
     ]
    }
   ],
   "source": [
    "a = 2\n",
    "b = 3\n",
    "\n",
    "n = 6\n",
    "\n",
    "boxWidth = (b-a)/(n-1)\n",
    "\n",
    "x = np.linspace(a,b,n)\n",
    "# print(x)\n",
    "def f(x):\n",
    "    return 6*(x**2) -4 * x + 2\n",
    "\n",
    "yLeft = f(x[:-1])\n",
    "yRight = f(x[1:])\n",
    "\n",
    "xMid = (x[:-1] + x[1:])/2\n",
    "yMid = f(xMid)\n",
    "\n",
    "# (p1 x l) + p2 x l + p3 x l + p4 x l + p5 x l + p6 x l ...\n",
    "leftRiemannSum = np.sum(np.abs(yLeft * boxWidth))\n",
    "rightRiemannSum = np.sum(np.abs(yRight * boxWidth))\n",
    "midRiemannSum = np.sum(np.abs(yMid * boxWidth))\n",
    "trapezoidSum = np.sum(np.abs((yLeft + yRight)/2 * boxWidth))\n",
    "\n",
    "print(\"Left Riemann Sum: \", leftRiemannSum)\n",
    "print(\"Right Riemann Sum: \", rightRiemannSum)\n",
    "print(\"Mid Riemann Sum: \", midRiemannSum)\n",
    "print(\"Trapezoid Sum: \", trapezoidSum)\n",
    "# print((leftRiemannSum+rightRiemannSum)/2) same as trapezoid sum\n"
   ]
  }
 ],
 "metadata": {
  "kernelspec": {
   "display_name": "Python 3",
   "language": "python",
   "name": "python3"
  },
  "language_info": {
   "codemirror_mode": {
    "name": "ipython",
    "version": 3
   },
   "file_extension": ".py",
   "mimetype": "text/x-python",
   "name": "python",
   "nbconvert_exporter": "python",
   "pygments_lexer": "ipython3",
   "version": "3.10.6"
  },
  "orig_nbformat": 4
 },
 "nbformat": 4,
 "nbformat_minor": 2
}
