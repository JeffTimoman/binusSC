{
 "cells": [
  {
   "cell_type": "code",
   "execution_count": 1,
   "metadata": {},
   "outputs": [
    {
     "name": "stdout",
     "output_type": "stream",
     "text": [
      "[ 6  7 15]\n",
      "[11 12 27]\n",
      "True\n"
     ]
    }
   ],
   "source": [
    "import numpy as np\n",
    "\n",
    "a = [[6, 3, 2],\n",
    "     [2, 7, 3],\n",
    "     [7, 5, 15]]\n",
    "\n",
    "print(np.diag(a))\n",
    "print(np.sum(np.abs(a), axis=1))\n",
    "\n",
    "def checkDiagonallyDominant(a):\n",
    "    diag = np.diag(a)\n",
    "    sumWithDiag = np.sum(np.abs(a), axis=1)\n",
    "    sumWithoutDiag = sumWithDiag - diag\n",
    "    \n",
    "    if np.all(diag > sumWithoutDiag):\n",
    "        print(\"True\")\n",
    "    else:\n",
    "        print(\"False\")\n",
    "        \n",
    "checkDiagonallyDominant(a)"
   ]
  },
  {
   "cell_type": "code",
   "execution_count": null,
   "metadata": {},
   "outputs": [],
   "source": [
    "a = 0\n",
    "b = 0\n",
    "c = 0\n",
    "epsilon = 0.1\n",
    "limit = 15\n",
    "\n",
    "oldValue = np.array([a, b, c])\n",
    "\n",
    "\n",
    "for i in range(1, limit):\n",
    "  a = (15-3*b-2*c)/6\n",
    "  b = (6-2*a-3*c)/7\n",
    "  c = (12-7*a-5*b)/15\n",
    "  xNew = np.array([a, b, c])\n",
    "\n",
    "  distance = np.sqrt(np.dot(xNew - oldValue, xNew-oldValue))\n",
    "  \n",
    "  print(a, b, c)\n",
    "  if distance <= epsilon :\n",
    "    print(\"Finished\")\n",
    "    isFinished = True\n",
    "    break\n",
    "\n",
    "  oldValue = xNew\n",
    "\n",
    "if isFinished == False:\n",
    "  print(\"Solution Not Found\")"
   ]
  },
  {
   "cell_type": "code",
   "execution_count": null,
   "metadata": {},
   "outputs": [],
   "source": [
    "CaseX = [\n",
    "  [\n",
    "    [-3,9,-6],\n",
    "    [7,-2,-3],\n",
    "    [4,1,-4]\n",
    "  ],\n",
    "  [\n",
    "    [1, 3, -3, 9],\n",
    "    [2, -9,3, -3],\n",
    "    [-1, 3, 15, -1],\n",
    "   [21, 4, -1, 10]\n",
    "  ],\n",
    "  [\n",
    "    [4,2,-1],\n",
    "    [1,3,-1],\n",
    "    [5,2,10]\n",
    "  ],\n",
    "  [\n",
    "    [-7,2,-4],\n",
    "    [-1,-19,-13],\n",
    "    [-3,3,-19]\n",
    "  ],\n",
    "  [\n",
    "    [-12, 1, -4, 6],\n",
    "    [-3, 8,-3, 2],\n",
    "    [3, 3, 10, -3],\n",
    "    [3, -2, 3, 12]\n",
    "  ],\n",
    "  [\n",
    "    [2,1,-1],\n",
    "    [-2,5,-3],\n",
    "    [-1,-6,-9]\n",
    "  ]\n",
    "]\n",
    "CaseY=[\n",
    "   [0, -6, 5],\n",
    "   [12, 9, -6, 11],\n",
    "   [19, 12, 5],\n",
    "   [8, 3, 5],\n",
    "   [3, 6, 9, 21],\n",
    "   [3, 9, 12]\n",
    "]"
   ]
  },
  {
   "cell_type": "code",
   "execution_count": null,
   "metadata": {},
   "outputs": [],
   "source": [
    "def gauss_sediel(x, y, limit, epsilon):\n",
    "    x = np.array(x)\n",
    "    y = np.array(y)\n",
    "    \n",
    "    #diagonally dominant\n",
    "    diag = np.diag(x)\n",
    "    sumWithDiag = np.sum(np.abs(x), axis=1)\n",
    "    sumWithoutDiag = sumWithDiag - diag\n",
    "    \n",
    "    if np.all(diag > sumWithoutDiag):\n",
    "        print(\"True\")\n",
    "    else:\n",
    "        print(\"False\")\n",
    "        return False\n",
    "        \n",
    "    oldValue = np.zeros(x.shape[0])\n",
    "    diags = np.diag(x)\n",
    "    x = -x\n",
    "    np.fill_diagonal(x, 0)\n",
    "    \n",
    "    for i in range(1, limit):\n",
    "        xNew = oldValue\n",
    "        for j, row in enumerate(x):\n",
    "            xNew[j] = (y[j] + np.dot(row, xNew))/diags[j] #formula perkalian \n",
    "        \n",
    "        distance = np.sqrt(np.dot(xNew-oldValue, xNew-oldValue))\n",
    "        \n",
    "        if distance <= epsilon:\n",
    "            return True\n",
    "        oldValue = xNew\n",
    "        \n",
    "    return False"
   ]
  },
  {
   "cell_type": "code",
   "execution_count": null,
   "metadata": {},
   "outputs": [],
   "source": [
    "for i, (x, y) in enumerate(zip(CaseX, CaseY)):\n",
    "    result = gauss_sediel(x, y, 15, 0.01)\n",
    "    if(result == True):\n",
    "        print(\"Success\")\n",
    "    else:\n",
    "        print(\"No Solution\")"
   ]
  }
 ],
 "metadata": {
  "kernelspec": {
   "display_name": "Python 3",
   "language": "python",
   "name": "python3"
  },
  "language_info": {
   "codemirror_mode": {
    "name": "ipython",
    "version": 3
   },
   "file_extension": ".py",
   "mimetype": "text/x-python",
   "name": "python",
   "nbconvert_exporter": "python",
   "pygments_lexer": "ipython3",
   "version": "3.11.0"
  },
  "orig_nbformat": 4,
  "vscode": {
   "interpreter": {
    "hash": "883134e110ee18a3078e23f877d5b313ef0b07cd54eba4dab119a4f0b2f5186b"
   }
  }
 },
 "nbformat": 4,
 "nbformat_minor": 2
}
