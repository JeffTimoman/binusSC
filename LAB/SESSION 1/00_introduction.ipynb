{
 "cells": [
  {
   "cell_type": "code",
   "execution_count": 24,
   "metadata": {},
   "outputs": [
    {
     "name": "stdout",
     "output_type": "stream",
     "text": [
      "2\n",
      "2\n",
      "[5 6 7]\n"
     ]
    }
   ],
   "source": [
    "# Numpy \n",
    "import numpy as np\n",
    "\n",
    "\n",
    "arrayList = [1,2,3,4]\n",
    "arrayList2 = [5,6,7,8]\n",
    "array1 = np.array([\n",
    "    [1,2,3,4], \n",
    "    [2,3,4,5],\n",
    "    [3,4,5,6]\n",
    "    ])\n",
    "array2 = np.array([5,6,7,8])\n",
    "# print(arrayList + arrayList2)\n",
    "# print(array1 + array2)\n",
    "# print(array1.shape)\n",
    "print(array1.ndim)\n",
    "print(array1[1][0])\n",
    "print(array2[:3])"
   ]
  },
  {
   "cell_type": "code",
   "execution_count": 27,
   "metadata": {},
   "outputs": [
    {
     "name": "stdout",
     "output_type": "stream",
     "text": [
      "[[ 5 12 21 32]\n",
      " [10 18 28 40]\n",
      " [15 24 35 48]]\n",
      "[ 70  96 122]\n"
     ]
    }
   ],
   "source": [
    "print(array1 * array2)\n",
    "print(np.dot(array1, array2))"
   ]
  },
  {
   "cell_type": "code",
   "execution_count": 7,
   "metadata": {},
   "outputs": [
    {
     "name": "stderr",
     "output_type": "stream",
     "text": [
      "C:\\Users\\bcamaster\\AppData\\Local\\Temp\\ipykernel_32048\\1086374383.py:2: VisibleDeprecationWarning: Creating an ndarray from ragged nested sequences (which is a list-or-tuple of lists-or-tuples-or ndarrays with different lengths or shapes) is deprecated. If you meant to do this, you must specify 'dtype=object' when creating the ndarray.\n",
      "  matriks1 = np.array([\n"
     ]
    },
    {
     "ename": "ValueError",
     "evalue": "operands could not be broadcast together with shapes (2,) (4,) ",
     "output_type": "error",
     "traceback": [
      "\u001b[1;31m---------------------------------------------------------------------------\u001b[0m",
      "\u001b[1;31mValueError\u001b[0m                                Traceback (most recent call last)",
      "Cell \u001b[1;32mIn[7], line 9\u001b[0m\n\u001b[0;32m      2\u001b[0m matriks1 \u001b[39m=\u001b[39m np\u001b[39m.\u001b[39marray([\n\u001b[0;32m      3\u001b[0m     [\u001b[39m1\u001b[39m, \u001b[39m2\u001b[39m, \u001b[39m3\u001b[39m],\n\u001b[0;32m      4\u001b[0m     [\u001b[39m3\u001b[39m, \u001b[39m4\u001b[39m, \u001b[39m5\u001b[39m, \u001b[39m6\u001b[39m]\n\u001b[0;32m      5\u001b[0m     ])\n\u001b[0;32m      6\u001b[0m matriks2 \u001b[39m=\u001b[39m np\u001b[39m.\u001b[39marray(\n\u001b[0;32m      7\u001b[0m     [\u001b[39m5\u001b[39m, \u001b[39m6\u001b[39m, \u001b[39m7\u001b[39m, \u001b[39m8\u001b[39m]\n\u001b[0;32m      8\u001b[0m     )\n\u001b[1;32m----> 9\u001b[0m \u001b[39mprint\u001b[39m((matriks1) \u001b[39m+\u001b[39;49m (matriks2))\n\u001b[0;32m     10\u001b[0m \u001b[39mprint\u001b[39m(np\u001b[39m.\u001b[39mdot(matriks1, matriks2))\n",
      "\u001b[1;31mValueError\u001b[0m: operands could not be broadcast together with shapes (2,) (4,) "
     ]
    }
   ],
   "source": [
    "import numpy as np\n",
    "matriks1 = np.array([\n",
    "    [1, 2, 3, 4],\n",
    "    [3, 4, 5, 6]\n",
    "    ])\n",
    "matriks2 = np.array(\n",
    "    [5, 6, 7, 8]\n",
    "    )\n",
    "print((matriks1) + (matriks2))\n",
    "print(np.dot(matriks1, matriks2))"
   ]
  },
  {
   "cell_type": "code",
   "execution_count": null,
   "metadata": {},
   "outputs": [],
   "source": []
  }
 ],
 "metadata": {
  "kernelspec": {
   "display_name": "Python 3",
   "language": "python",
   "name": "python3"
  },
  "language_info": {
   "codemirror_mode": {
    "name": "ipython",
    "version": 3
   },
   "file_extension": ".py",
   "mimetype": "text/x-python",
   "name": "python",
   "nbconvert_exporter": "python",
   "pygments_lexer": "ipython3",
   "version": "3.10.6 (tags/v3.10.6:9c7b4bd, Aug  1 2022, 21:53:49) [MSC v.1932 64 bit (AMD64)]"
  },
  "orig_nbformat": 4,
  "vscode": {
   "interpreter": {
    "hash": "6fff6653d2e8d1708d6cf49bd9b145b1784fc75233edee07bc358c156e76e180"
   }
  }
 },
 "nbformat": 4,
 "nbformat_minor": 2
}
