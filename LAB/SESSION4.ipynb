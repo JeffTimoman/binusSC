{
 "cells": [
  {
   "cell_type": "code",
   "execution_count": 2,
   "metadata": {},
   "outputs": [],
   "source": [
    "import numpy as np"
   ]
  },
  {
   "cell_type": "code",
   "execution_count": 3,
   "metadata": {},
   "outputs": [
    {
     "name": "stdout",
     "output_type": "stream",
     "text": [
      "1.7320480346679688\n",
      "0.0001870501927512258\n"
     ]
    }
   ],
   "source": [
    "#Metode Bisection\n",
    "def bisection(f, a, b, tolerance):\n",
    "    if (np.sign(f(a)) == np.sign(f(b))):\n",
    "        print(\"Root Cannnot Be Found!\")\n",
    "        return\n",
    "\n",
    "    mid = (a + b) / 2\n",
    "    if(np.abs(f(mid)) < tolerance):\n",
    "        return mid\n",
    "    elif np.sign(f(mid)) == np.sign(f(a)):\n",
    "        return bisection(f, mid, b, tolerance)\n",
    "    elif np.sign(f(mid)) == np.sign(f(b)):\n",
    "        return bisection(f, a, mid, tolerance)\n",
    "\n",
    "f = lambda x : x ** 2-3\n",
    "a = -1\n",
    "b = 4\n",
    "tolerance = 0.00001\n",
    "\n",
    "print(bisection(f, a, b, tolerance))\n",
    "print(f(1.73210480346679688))"
   ]
  },
  {
   "cell_type": "code",
   "execution_count": 4,
   "metadata": {},
   "outputs": [
    {
     "name": "stdout",
     "output_type": "stream",
     "text": [
      "1.7320508100147276\n",
      "-4.440892098500626e-16\n"
     ]
    }
   ],
   "source": [
    "#Metode Newton-Raphson\n",
    "def newton_raphson(f, df, x0, tolerance):\n",
    "    if (np.abs(f(x0)) < tolerance):\n",
    "        return x0\n",
    "    else :\n",
    "        return newton_raphson(f, df, x0 - f(x0)/df(x0), tolerance)\n",
    "    \n",
    "f = lambda x : x ** 2-3\n",
    "df = lambda x : 2 * x\n",
    "x0 = 1\n",
    "tolerance = 0.00001\n",
    "\n",
    "print(newton_raphson(f, df, x0, tolerance))\n",
    "print(f(1.7320508075688772))"
   ]
  }
 ],
 "metadata": {
  "kernelspec": {
   "display_name": "Python 3",
   "language": "python",
   "name": "python3"
  },
  "language_info": {
   "codemirror_mode": {
    "name": "ipython",
    "version": 3
   },
   "file_extension": ".py",
   "mimetype": "text/x-python",
   "name": "python",
   "nbconvert_exporter": "python",
   "pygments_lexer": "ipython3",
   "version": "3.10.6"
  },
  "orig_nbformat": 4,
  "vscode": {
   "interpreter": {
    "hash": "6fff6653d2e8d1708d6cf49bd9b145b1784fc75233edee07bc358c156e76e180"
   }
  }
 },
 "nbformat": 4,
 "nbformat_minor": 2
}
