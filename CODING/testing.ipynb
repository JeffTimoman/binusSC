{
 "cells": [
  {
   "cell_type": "code",
   "execution_count": 4,
   "metadata": {},
   "outputs": [
    {
     "name": "stdout",
     "output_type": "stream",
     "text": [
      "Final answer : 0.1999999999999999 1.0000000000000002 1.6\n"
     ]
    }
   ],
   "source": [
    "x1 = x2 = x3 = 0\n",
    "\n",
    "count = 1\n",
    "\n",
    "while count != 100:\n",
    "    x1 = (3 * x2 - 6 * x3 + 8.6)/10\n",
    "    x2 = (9 * x3 - x1 + 0.8)/15\n",
    "    x3 = (6 * x2 + x1 + 6.6)/8\n",
    "\n",
    "    # print(f\"Iteration {count} : {x1} {x2} {x3}\")\n",
    "    count += 1\n",
    "\n",
    "print(f\"Final answer : {x1} {x2} {x3}\")"
   ]
  },
  {
   "cell_type": "code",
   "execution_count": 6,
   "metadata": {},
   "outputs": [
    {
     "name": "stdout",
     "output_type": "stream",
     "text": [
      "Final answer : 0.75 1.50 1.25\n"
     ]
    }
   ],
   "source": [
    "x1 = x2 = x3 = 0\n",
    "\n",
    "count = 1\n",
    "\n",
    "while count != 100:\n",
    "    x1 = (40.5 + 12 * x3 - 12 * x2)/50\n",
    "    # x1 = round(x1, 4)\n",
    "    x2 = (35.75 + 47 * x3 - 12 * x1)/57\n",
    "    # x2 = round(x2, 4)\n",
    "    x3 = (-25.75 + 47 * x2 + 12 * x1)/43\n",
    "    # x3 = round(x3, 4)\n",
    "    \n",
    "    # print(f\"Iteration {count} : {x1} {x2} {x3}\")\n",
    "    count += 1\n",
    "\n",
    "print(f\"Final answer : {x1:.2f} {x2:.2f} {x3:.2f}\")"
   ]
  },
  {
   "cell_type": "code",
   "execution_count": 7,
   "metadata": {},
   "outputs": [
    {
     "name": "stdout",
     "output_type": "stream",
     "text": [
      "[0.75 1.5  1.25]\n"
     ]
    }
   ],
   "source": [
    "import numpy as np\n",
    "\n",
    "arr = np.array([\n",
    "    [50, 12, -12],\n",
    "    [12, 57, -47],\n",
    "    [-12, -47, 43]\n",
    "])\n",
    "\n",
    "b = np.array([40.5, 35.75, -25.75])\n",
    "\n",
    "x = np.linalg.solve(arr, b)\n",
    "\n",
    "print(x)"
   ]
  },
  {
   "cell_type": "code",
   "execution_count": 3,
   "metadata": {},
   "outputs": [
    {
     "name": "stdout",
     "output_type": "stream",
     "text": [
      "Final answer : 1.0 1.0 1.0\n"
     ]
    }
   ],
   "source": [
    "x1 = x2 = x3 = 0\n",
    "\n",
    "count = 1\n",
    "\n",
    "while count != 100:\n",
    "    x1 = (25 - 3 * x3 - 2 * x2)/20\n",
    "    x2 = (9 + 4 * x3 - 3 * x1)/10\n",
    "    x3 = (6 + x2 - 2 * x1)/5\n",
    "\n",
    "    # print(f\"Iteration {count} : {x1} {x2} {x3}\")\n",
    "    count += 1\n",
    "\n",
    "print(f\"Final answer : {x1} {x2} {x3}\")"
   ]
  },
  {
   "cell_type": "code",
   "execution_count": 2,
   "metadata": {},
   "outputs": [
    {
     "name": "stdout",
     "output_type": "stream",
     "text": [
      "[0.75 1.5  1.25]\n"
     ]
    }
   ],
   "source": []
  },
  {
   "cell_type": "code",
   "execution_count": null,
   "metadata": {},
   "outputs": [],
   "source": [
    "x1 = x2 = x3 = 0\n",
    "\n",
    "count = 1\n",
    "\n",
    "while count != 100:\n",
    "    x1 = (-0.5 + 3 * x3 - 2 * x2)/10\n",
    "    x2 = (-5.6 + 3 * x3 - 7 * x1)/-14\n",
    "    x3 = (24.4 - 4 * x2 - x1)/33\n",
    "\n",
    "    print(f\"Iteration {count} : {x1} {x2} {x3}\")\n",
    "    count += 1\n",
    "\n",
    "print(f\"Final answer : {x1} {x2} {x3}\")"
   ]
  },
  {
   "cell_type": "code",
   "execution_count": null,
   "metadata": {},
   "outputs": [],
   "source": [
    "x1 = x2 = x3 = 0\n",
    "\n",
    "count = 1\n",
    "\n",
    "while count != 100:\n",
    "    x1 = (6.4 - 5.8 * x3 - 2.8 * x2)/3.5\n",
    "    x2 = (5.8 - 1.8 * x3 - 2.7 * x1)/3.1\n",
    "    x3 = (0.4 + 3.9 * x2 - 4.3 * x1)/-8.2\n",
    "\n",
    "    print(f\"Iteration {count} : {x1} {x2} {x3}\")\n",
    "    count += 1\n",
    "\n",
    "print(f\"Final answer : {x1} {x2} {x3}\")"
   ]
  }
 ],
 "metadata": {
  "kernelspec": {
   "display_name": "Python 3",
   "language": "python",
   "name": "python3"
  },
  "language_info": {
   "codemirror_mode": {
    "name": "ipython",
    "version": 3
   },
   "file_extension": ".py",
   "mimetype": "text/x-python",
   "name": "python",
   "nbconvert_exporter": "python",
   "pygments_lexer": "ipython3",
   "version": "3.10.6 (tags/v3.10.6:9c7b4bd, Aug  1 2022, 21:53:49) [MSC v.1932 64 bit (AMD64)]"
  },
  "orig_nbformat": 4,
  "vscode": {
   "interpreter": {
    "hash": "6fff6653d2e8d1708d6cf49bd9b145b1784fc75233edee07bc358c156e76e180"
   }
  }
 },
 "nbformat": 4,
 "nbformat_minor": 2
}
