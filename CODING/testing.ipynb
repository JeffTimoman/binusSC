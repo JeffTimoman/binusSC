{
 "cells": [
  {
   "cell_type": "code",
   "execution_count": null,
   "metadata": {},
   "outputs": [],
   "source": [
    "x1 = x2 = x3 = 0\n",
    "\n",
    "count = 1\n",
    "\n",
    "while count != 100:\n",
    "    x1 = (3 * x2 - 6 * x3 + 8.6)/10\n",
    "    x2 = (9 * x3 - x1 + 0.8)/15\n",
    "    x3 = (6 * x2 + x1 + 6.6)/8\n",
    "\n",
    "    print(f\"Iteration {count} : {x1} {x2} {x3}\")\n",
    "    count += 1\n",
    "\n",
    "print(f\"Final answer : {x1} {x2} {x3}\")"
   ]
  },
  {
   "cell_type": "code",
   "execution_count": null,
   "metadata": {},
   "outputs": [],
   "source": [
    "x1 = x2 = x3 = 0\n",
    "\n",
    "count = 1\n",
    "\n",
    "while count != 100:\n",
    "    x1 = (40.5 + 12 * x3 - 12 * x2)/50\n",
    "    # x1 = round(x1, 4)\n",
    "    x2 = (35.75 + 47 * x3 - 12 * x1)/57\n",
    "    # x2 = round(x2, 4)\n",
    "    x3 = (-25.75 + 47 * x2 + 12 * x1)/43\n",
    "    # x3 = round(x3, 4)\n",
    "    \n",
    "    print(f\"Iteration {count} : {x1} {x2} {x3}\")\n",
    "    count += 1\n",
    "\n",
    "print(f\"Final answer : {x1:.2f} {x2:.2f} {x3:.2f}\")"
   ]
  },
  {
   "cell_type": "code",
   "execution_count": null,
   "metadata": {},
   "outputs": [],
   "source": [
    "x1 = x2 = x3 = 0\n",
    "\n",
    "count = 1\n",
    "\n",
    "while count != 100:\n",
    "    x1 = (25 - 3 * x3 - 2 * x2)/20\n",
    "    x2 = (9 + 4 * x3 - 3 * x1)/10\n",
    "    x3 = (6 + x2 - 2 * x1)/5\n",
    "\n",
    "    print(f\"Iteration {count} : {x1} {x2} {x3}\")\n",
    "    count += 1\n",
    "\n",
    "print(f\"Final answer : {x1} {x2} {x3}\")"
   ]
  },
  {
   "cell_type": "code",
   "execution_count": null,
   "metadata": {},
   "outputs": [],
   "source": [
    "x1 = x2 = x3 = 0\n",
    "\n",
    "count = 1\n",
    "\n",
    "while count != 100:\n",
    "    x1 = (-0.5 + 3 * x3 - 2 * x2)/10\n",
    "    x2 = (-5.6 + 3 * x3 - 7 * x1)/-14\n",
    "    x3 = (24.4 - 4 * x2 - x1)/33\n",
    "\n",
    "    print(f\"Iteration {count} : {x1} {x2} {x3}\")\n",
    "    count += 1\n",
    "\n",
    "print(f\"Final answer : {x1} {x2} {x3}\")"
   ]
  },
  {
   "cell_type": "code",
   "execution_count": null,
   "metadata": {},
   "outputs": [],
   "source": [
    "x1 = x2 = x3 = 0\n",
    "\n",
    "count = 1\n",
    "\n",
    "while count != 100:\n",
    "    x1 = (6.4 - 5.8 * x3 - 2.8 * x2)/3.5\n",
    "    x2 = (5.8 - 1.8 * x3 - 2.7 * x1)/3.1\n",
    "    x3 = (0.4 + 3.9 * x2 - 4.3 * x1)/-8.2\n",
    "\n",
    "    print(f\"Iteration {count} : {x1} {x2} {x3}\")\n",
    "    count += 1\n",
    "\n",
    "print(f\"Final answer : {x1} {x2} {x3}\")"
   ]
  }
 ],
 "metadata": {
  "kernelspec": {
   "display_name": "Python 3",
   "language": "python",
   "name": "python3"
  },
  "language_info": {
   "codemirror_mode": {
    "name": "ipython",
    "version": 3
   },
   "file_extension": ".py",
   "mimetype": "text/x-python",
   "name": "python",
   "nbconvert_exporter": "python",
   "pygments_lexer": "ipython3",
   "version": "3.10.6"
  },
  "orig_nbformat": 4,
  "vscode": {
   "interpreter": {
    "hash": "6fff6653d2e8d1708d6cf49bd9b145b1784fc75233edee07bc358c156e76e180"
   }
  }
 },
 "nbformat": 4,
 "nbformat_minor": 2
}
