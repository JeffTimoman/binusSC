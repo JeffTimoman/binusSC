{
 "cells": [
  {
   "cell_type": "code",
   "execution_count": null,
   "metadata": {},
   "outputs": [],
   "source": [
    "import numpy as np\n",
    "import os\n",
    "S = np.array([\n",
    "    [-30, 10, 20],\n",
    "    [10, 40, -50],\n",
    "    [20, -50, -10]\n",
    "])\n",
    "\n",
    "v = np.array([1, 0, 0])\n",
    "print(S, v, sep='\\n')\n",
    "for _ in range(1000):\n",
    "    z = np.dot(S, v)\n",
    "    v = z / np.linalg.norm(z)\n",
    "    # print(np.linalg.norm(z))\n",
    "\n",
    "print(v)\n",
    "print(np.linalg.norm(v))"
   ]
  },
  {
   "cell_type": "code",
   "execution_count": null,
   "metadata": {},
   "outputs": [],
   "source": []
  },
  {
   "cell_type": "code",
   "execution_count": null,
   "metadata": {},
   "outputs": [],
   "source": [
    "a = np.array([\n",
    "    [2, 2, 4],\n",
    "    [1, 3, 5], \n",
    "    [2, 3, 4]\n",
    "])\n",
    "\n",
    "\n",
    "\n",
    "# w, v = np.linalg.eig(a)\n",
    "\n",
    "# print(w)\n",
    "# print(v)"
   ]
  },
  {
   "cell_type": "code",
   "execution_count": null,
   "metadata": {},
   "outputs": [],
   "source": [
    "import numpy as np\n",
    "\n",
    "a = np.array([\n",
    "    [0, 11, -5],\n",
    "    [-2, 17, -7],\n",
    "    [-4, 26, -10]\n",
    "])\n",
    "\n",
    "v = np.array([1, 1, 1])\n",
    "temp = 0\n",
    "counter = 0\n",
    "while (True):\n",
    "    before = v\n",
    "    A_V = np.dot(a, v)\n",
    "    biggest = np.max(A_V)\n",
    "    temp = biggest\n",
    "    print(\"Iteration {}\".format(counter))\n",
    "    print(A_V)\n",
    "    A_V = A_V / biggest\n",
    "    v = A_V\n",
    "    print(v)\n",
    "    counter += 1\n",
    "    if np.linalg.norm(before - v) < 0.0001:\n",
    "        break\n",
    "\n",
    "print(temp)\n",
    "\n",
    "print(np.linalg.eig(a))"
   ]
  },
  {
   "cell_type": "code",
   "execution_count": null,
   "metadata": {},
   "outputs": [],
   "source": []
  },
  {
   "cell_type": "code",
   "execution_count": null,
   "metadata": {},
   "outputs": [],
   "source": [
    "a = np.array([\n",
    "    [0, 11, -5],\n",
    "    [-2, 17, -7],\n",
    "    [-4, 26, -10]\n",
    "])\n",
    "\n",
    "v = np.array([1, 1, 1])\n",
    "# alpha = 4.2\n",
    "alpha = 100000\n",
    "alpha = 100\n",
    "temp = 0\n",
    "for k in range(10000):\n",
    "    yK = np.dot(np.linalg.inv(a - alpha * np.identity(3)), v)\n",
    "    v = yK / np.max(yK)\n",
    "    temp = np.max(yK)\n",
    "\n",
    "print(temp)\n",
    "lamb = 1/ temp + alpha\n",
    "print(lamb)\n"
   ]
  },
  {
   "cell_type": "code",
   "execution_count": null,
   "metadata": {},
   "outputs": [],
   "source": []
  },
  {
   "cell_type": "code",
   "execution_count": null,
   "metadata": {},
   "outputs": [],
   "source": [
    "import numpy as np\n",
    "\n",
    "#Householder\n",
    "\n",
    "a = np.array([\n",
    "    [4, -2, 1, -1],\n",
    "    [-2, 4, -2, 1],\n",
    "    [1, -2, 4, -2],\n",
    "    [-1, 1, -2, 4]\n",
    "])\n",
    "\n",
    "p, q = np.linalg.qr(a, mode='reduced')\n",
    "print(p, q, sep='\\n\\n')\n",
    "print()\n",
    "p, q = np.linalg.eig(a)\n",
    "print(p, q, sep='\\n\\n')\n"
   ]
  },
  {
   "cell_type": "code",
   "execution_count": 40,
   "metadata": {},
   "outputs": [
    {
     "name": "stdout",
     "output_type": "stream",
     "text": [
      "[[-4.69041576e+00  4.05081361e+00 -2.98481003e+00  2.55840860e+00]\n",
      " [-1.52655666e-16  2.60747431e+00 -1.08294145e+00  1.81072875e-01]\n",
      " [ 3.81639165e-17 -1.30373715e+00  3.54147073e+00 -1.59053644e+00]\n",
      " [ 0.00000000e+00  3.03737154e-01 -1.54147073e+00  3.59053644e+00]]\n"
     ]
    }
   ],
   "source": [
    "import numpy as np\n",
    "import math\n",
    "a = np.array([\n",
    "    [4, -2, 1, -1],\n",
    "    [-2, 4, -2, 1],\n",
    "    [1, -2, 4, -2],\n",
    "    [-1, 1, -2, 4]\n",
    "])\n",
    "\n",
    "xK = a[0:4, 0]\n",
    "# print(xK)\n",
    "\n",
    "eK = np.identity(4)[0]\n",
    "# print(eK)\n",
    "\n",
    "u1 = xK + np.linalg.norm(xK) * eK\n",
    "\n",
    "h1 = np.identity(4) - 2 * np.outer(u1, u1)/np.dot(u1, u1)\n",
    "\n",
    "\n",
    "# print(np.outer(u1, u1))\n",
    "\n",
    "a1 = np.dot(h1, a)\n",
    "print(a1)\n",
    "\n",
    "    "
   ]
  },
  {
   "cell_type": "code",
   "execution_count": 49,
   "metadata": {},
   "outputs": [
    {
     "ename": "ValueError",
     "evalue": "operands could not be broadcast together with shapes (3,) (4,) ",
     "output_type": "error",
     "traceback": [
      "\u001b[1;31m---------------------------------------------------------------------------\u001b[0m",
      "\u001b[1;31mValueError\u001b[0m                                Traceback (most recent call last)",
      "Cell \u001b[1;32mIn[49], line 23\u001b[0m\n\u001b[0;32m     20\u001b[0m         a \u001b[39m=\u001b[39m np\u001b[39m.\u001b[39mdot(a, h1)\n\u001b[0;32m     21\u001b[0m     \u001b[39mreturn\u001b[39;00m a\n\u001b[1;32m---> 23\u001b[0m a \u001b[39m=\u001b[39m tridiagonalize(a)\n\u001b[0;32m     24\u001b[0m \u001b[39mprint\u001b[39m(a)\n",
      "Cell \u001b[1;32mIn[49], line 17\u001b[0m, in \u001b[0;36mtridiagonalize\u001b[1;34m(a)\u001b[0m\n\u001b[0;32m     15\u001b[0m xK \u001b[39m=\u001b[39m a[k\u001b[39m+\u001b[39m\u001b[39m1\u001b[39m:, k]\n\u001b[0;32m     16\u001b[0m eK \u001b[39m=\u001b[39m np\u001b[39m.\u001b[39midentity(n)[k\u001b[39m+\u001b[39m\u001b[39m1\u001b[39m]\n\u001b[1;32m---> 17\u001b[0m u1 \u001b[39m=\u001b[39m xK \u001b[39m+\u001b[39;49m np\u001b[39m.\u001b[39;49mlinalg\u001b[39m.\u001b[39;49mnorm(xK) \u001b[39m*\u001b[39;49m eK\n\u001b[0;32m     18\u001b[0m h1 \u001b[39m=\u001b[39m np\u001b[39m.\u001b[39midentity(n) \u001b[39m-\u001b[39m \u001b[39m2\u001b[39m \u001b[39m*\u001b[39m np\u001b[39m.\u001b[39mouter(u1, u1)\u001b[39m/\u001b[39mnp\u001b[39m.\u001b[39mdot(u1, u1)\n\u001b[0;32m     19\u001b[0m a \u001b[39m=\u001b[39m np\u001b[39m.\u001b[39mdot(h1, a)\n",
      "\u001b[1;31mValueError\u001b[0m: operands could not be broadcast together with shapes (3,) (4,) "
     ]
    }
   ],
   "source": [
    "import numpy as np\n",
    "import math\n",
    "a = np.array([\n",
    "    [4, -2, 1, -1],\n",
    "    [-2, 4, -2, 1],\n",
    "    [1, -2, 4, -2],\n",
    "    [-1, 1, -2, 4]\n",
    "])\n",
    "\n",
    "# Tridiagonalization\n",
    "\n",
    "def tridiagonalize(a):\n",
    "    n = a.shape[0]\n",
    "    for k in range(n-2):\n",
    "        xK = a[k+1:, k]\n",
    "        eK = np.identity(n)[k+1]\n",
    "        u1 = xK + np.linalg.norm(xK) * eK\n",
    "        h1 = np.identity(n) - 2 * np.outer(u1, u1)/np.dot(u1, u1)\n",
    "        a = np.dot(h1, a)\n",
    "        a = np.dot(a, h1)\n",
    "    return a\n",
    "\n",
    "a = tridiagonalize(a)\n",
    "print(a)\n"
   ]
  },
  {
   "cell_type": "code",
   "execution_count": 55,
   "metadata": {},
   "outputs": [
    {
     "name": "stdout",
     "output_type": "stream",
     "text": [
      "[[-0.85280287 -0.49625825  0.06952269  0.14704292]\n",
      " [ 0.42640143 -0.77540351 -0.45991935  0.07352146]\n",
      " [-0.21320072  0.38770175 -0.78079332  0.44112877]\n",
      " [ 0.21320072 -0.04652421  0.41713616  0.88225755]]\n",
      "\n",
      "[[-4.69041576  4.05081361 -2.98481003  2.5584086 ]\n",
      " [ 0.         -2.93102526  2.69840421 -1.24064561]\n",
      " [ 0.          0.         -2.9680842   2.70068923]\n",
      " [ 0.          0.          0.          2.57325118]]\n"
     ]
    }
   ],
   "source": [
    "import numpy as np\n",
    "a = np.array([\n",
    "    [4, -2, 1, -1],\n",
    "    [-2, 4, -2, 1],\n",
    "    [1, -2, 4, -2],\n",
    "    [-1, 1, -2, 4]\n",
    "])\n",
    "\n",
    "p, q = np.linalg.qr(a, mode='reduced')\n",
    "print(p, q, sep='\\n\\n')\n",
    "\n",
    "# [[-4.69041576e+00  4.05081361e+00 -2.98481003e+00  2.55840860e+00]\n",
    "#  [-1.52655666e-16  2.60747431e+00 -1.08294145e+00  1.81072875e-01]\n",
    "#  [ 3.81639165e-17 -1.30373715e+00  3.54147073e+00 -1.59053644e+00]\n",
    "#  [ 0.00000000e+00  3.03737154e-01 -1.54147073e+00  3.59053644e+00]]"
   ]
  },
  {
   "cell_type": "code",
   "execution_count": 1,
   "metadata": {},
   "outputs": [
    {
     "name": "stdout",
     "output_type": "stream",
     "text": [
      "[2. 1. 2.]\n",
      "\n",
      "[[ 0.         -0.81649658  0.70710678]\n",
      " [ 1.          0.40824829  0.        ]\n",
      " [ 0.          0.40824829 -0.70710678]]\n"
     ]
    }
   ],
   "source": [
    "import numpy as np\n",
    "\n",
    "A = np.array([\n",
    "    [0, 0, -2],\n",
    "    [1, 2, 1],\n",
    "    [1, 0, 3]\n",
    "])\n",
    "\n",
    "# Print eigen value and eigen vector\n",
    "E, V = np.linalg.eig(A)\n",
    "print(E, V, sep='\\n\\n')"
   ]
  }
 ],
 "metadata": {
  "kernelspec": {
   "display_name": "Python 3",
   "language": "python",
   "name": "python3"
  },
  "language_info": {
   "codemirror_mode": {
    "name": "ipython",
    "version": 3
   },
   "file_extension": ".py",
   "mimetype": "text/x-python",
   "name": "python",
   "nbconvert_exporter": "python",
   "pygments_lexer": "ipython3",
   "version": "3.10.6"
  },
  "orig_nbformat": 4,
  "vscode": {
   "interpreter": {
    "hash": "6fff6653d2e8d1708d6cf49bd9b145b1784fc75233edee07bc358c156e76e180"
   }
  }
 },
 "nbformat": 4,
 "nbformat_minor": 2
}
