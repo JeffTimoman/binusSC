{
 "cells": [
  {
   "cell_type": "code",
   "execution_count": 3,
   "metadata": {},
   "outputs": [
    {
     "name": "stdout",
     "output_type": "stream",
     "text": [
      "[[-2, 0, 0], [0, 1, 0], [0, 0, -1]]\n"
     ]
    }
   ],
   "source": [
    "\n",
    "matrix = [\n",
    "    [-2, 5, 9],\n",
    "    [7, 1, 1],\n",
    "    [-3, 7, -1]\n",
    "]\n",
    "\n"
   ]
  },
  {
   "cell_type": "code",
   "execution_count": 7,
   "metadata": {},
   "outputs": [
    {
     "name": "stdout",
     "output_type": "stream",
     "text": [
      "[ 1. -3.  2.]\n"
     ]
    }
   ],
   "source": [
    "import numpy as np\n",
    "\n",
    "# Numpy array \n",
    "matrix = np.array([\n",
    "    [-2, 5, 9],\n",
    "    [7, 1, 1],\n",
    "    [-3, 7, -1]\n",
    "]\n",
    ")\n",
    "\n",
    "b = np.array([1, 6, -26])\n",
    "\n",
    "# Solve the system\n",
    "x = np.linalg.solve(matrix, b)\n",
    "\n",
    "print(x)"
   ]
  }
 ],
 "metadata": {
  "kernelspec": {
   "display_name": "Python 3",
   "language": "python",
   "name": "python3"
  },
  "language_info": {
   "codemirror_mode": {
    "name": "ipython",
    "version": 3
   },
   "file_extension": ".py",
   "mimetype": "text/x-python",
   "name": "python",
   "nbconvert_exporter": "python",
   "pygments_lexer": "ipython3",
   "version": "3.10.6"
  },
  "orig_nbformat": 4,
  "vscode": {
   "interpreter": {
    "hash": "6fff6653d2e8d1708d6cf49bd9b145b1784fc75233edee07bc358c156e76e180"
   }
  }
 },
 "nbformat": 4,
 "nbformat_minor": 2
}
