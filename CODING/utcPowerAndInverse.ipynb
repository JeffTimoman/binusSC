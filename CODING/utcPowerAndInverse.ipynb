{
 "cells": [
  {
   "cell_type": "code",
   "execution_count": 16,
   "metadata": {},
   "outputs": [],
   "source": [
    "#Jalanin dulu sekali biar ga error\n",
    "import numpy as np"
   ]
  },
  {
   "cell_type": "code",
   "execution_count": null,
   "metadata": {},
   "outputs": [],
   "source": [
    "\n",
    "# Langsung masukin aja matriksnya, lalu jalanin, otomatis dapat eigenvalue dan eigenvector\n",
    "A = np.array([\n",
    "    [0, 0, -2],\n",
    "    [1, 2, 1],\n",
    "    [1, 0, 3]\n",
    "])\n",
    "x\n",
    "P, Q = np.linalg.eig(A)\n",
    "print(P, Q, sep=\"\\n\\n\")\n"
   ]
  },
  {
   "cell_type": "code",
   "execution_count": null,
   "metadata": {},
   "outputs": [],
   "source": [
    "\n",
    "#Masukin matrixnya, lalu jalanin, otomatis dapat eigenvalue dan eigenvector\n",
    "A = np.array([\n",
    "    [0, 0, -2],\n",
    "    [1, 2, 1],\n",
    "    [1, 0, 3]\n",
    "])\n",
    "\n",
    "k = 0\n",
    "c = 0\n",
    "\n",
    "#Sesuaikan vektor asal, kalo 4x4 -> [1, 1, 1, 1], kalo 3x3 -> [1, 1, 1]\n",
    "v = np.array([1, 1, 1])\n",
    "\n",
    "#Power Method\n",
    "for i in range(100):\n",
    "    k = np.dot(A, v)\n",
    "    c = np.max(k)\n",
    "    v = k / c\n",
    "    print(f\"Iterasi ke-{i+1} :  {c} - {v}\")\n",
    "\n",
    "print(f\"Eigenvalue = {c}\")"
   ]
  },
  {
   "cell_type": "code",
   "execution_count": null,
   "metadata": {},
   "outputs": [],
   "source": [
    "#Masukin matrixnya, lalu jalanin, otomatis dapat eigenvalue dan eigenvector\n",
    "A = np.array([\n",
    "    [0, 0, -2],\n",
    "    [1, 2, 1],\n",
    "    [1, 0, 3]\n",
    "])\n",
    "\n",
    "A = np.linalg.inv(A)\n",
    "\n",
    "k = 0\n",
    "c = 0\n",
    "\n",
    "v = np.ones(A.shape[0])\n",
    "\n",
    "#Inverse Power Method\n",
    "for i in range(100):\n",
    "    k = np.dot(A, v)\n",
    "    c = np.max(k)\n",
    "    v = k / c\n",
    "    print(f\"Iterasi ke-{i+1} :  {c} - {v}\")\n",
    "    # Untuk lihat detail pilih see result in text editor\n",
    "\n",
    "print(f\"Eigenvalue : {1/c}\", sep=\"\\n\\n\")"
   ]
  }
 ],
 "metadata": {
  "kernelspec": {
   "display_name": "Python 3",
   "language": "python",
   "name": "python3"
  },
  "language_info": {
   "codemirror_mode": {
    "name": "ipython",
    "version": 3
   },
   "file_extension": ".py",
   "mimetype": "text/x-python",
   "name": "python",
   "nbconvert_exporter": "python",
   "pygments_lexer": "ipython3",
   "version": "3.10.6"
  },
  "orig_nbformat": 4,
  "vscode": {
   "interpreter": {
    "hash": "6fff6653d2e8d1708d6cf49bd9b145b1784fc75233edee07bc358c156e76e180"
   }
  }
 },
 "nbformat": 4,
 "nbformat_minor": 2
}
