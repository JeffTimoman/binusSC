{
 "cells": [
  {
   "cell_type": "code",
   "execution_count": 1,
   "metadata": {},
   "outputs": [
    {
     "name": "stdout",
     "output_type": "stream",
     "text": [
      "Alvina_Krisendi\n"
     ]
    }
   ],
   "source": [
    "f_name, l_name = input().split()\n",
    "print(f_name, l_name, sep='_')"
   ]
  },
  {
   "cell_type": "code",
   "execution_count": 2,
   "metadata": {},
   "outputs": [
    {
     "name": "stdout",
     "output_type": "stream",
     "text": [
      "8\n"
     ]
    }
   ],
   "source": [
    "n, m = list(map(int, input().split()))\n",
    "print(n+m)"
   ]
  },
  {
   "cell_type": "code",
   "execution_count": 3,
   "metadata": {},
   "outputs": [
    {
     "name": "stdout",
     "output_type": "stream",
     "text": [
      "11\n"
     ]
    }
   ],
   "source": [
    "def add(a, b):\n",
    "    return a+b\n",
    "\n",
    "n, m = list(map(int, input().split()))\n",
    "print(add(n, m))"
   ]
  },
  {
   "cell_type": "code",
   "execution_count": 12,
   "metadata": {},
   "outputs": [
    {
     "name": "stdout",
     "output_type": "stream",
     "text": [
      "1.0000000000000018 1.9999999999999996 1.0000000000000009\n",
      "1 2 1\n"
     ]
    }
   ],
   "source": [
    "import numpy \n",
    "\n",
    "# Numpy linalg matrix\n",
    "# a = numpy.array([\n",
    "#     [1, 9, 3], \n",
    "#     [3, 4, 7],\n",
    "#     [2, 8, 6]\n",
    "#     ])\n",
    "\n",
    "# x, y, z = numpy.linalg.solve(a, [1, 2, 3])\n",
    "# print(x, y, z)\n",
    "\n",
    "def solve(a, b):\n",
    "    return numpy.linalg.solve(a, b)\n",
    "\n",
    "a = numpy.array([\n",
    "    [1, 1, 1],\n",
    "    [1, -1, -1],\n",
    "    [2, 8, 1]\n",
    "    ])\n",
    "\n",
    "b = numpy.array([4, -2, 19])\n",
    "\n",
    "x, y, z = solve(a, b)\n",
    "print(x, y, z)\n",
    "print(round(x), round(y), round(z))\n"
   ]
  },
  {
   "cell_type": "code",
   "execution_count": 11,
   "metadata": {},
   "outputs": [
    {
     "name": "stdout",
     "output_type": "stream",
     "text": [
      "[[ 1  1  1]\n",
      " [ 1 -1 -1]\n",
      " [ 2  8  1]]\n"
     ]
    }
   ],
   "source": [
    "a = numpy.array([\n",
    "    [1, 0, 0],\n",
    "    [1, 1, 0],\n",
    "    [2, -3, 1]\n",
    "    ])\n",
    "b = numpy.array([\n",
    "    [1, 1, 1],\n",
    "    [0, -2, -2],\n",
    "    [0, 0, -7]\n",
    "    ])\n",
    "    \n",
    "print(numpy.dot(a, b))"
   ]
  },
  {
   "cell_type": "code",
   "execution_count": 19,
   "metadata": {},
   "outputs": [
    {
     "name": "stdout",
     "output_type": "stream",
     "text": [
      "2.0 -2.0 1.0 1.0 -1.0\n",
      "2 - -2 - 1 - 1 - -1\n"
     ]
    }
   ],
   "source": [
    "import numpy\n",
    "\n",
    "a = numpy.array([\n",
    "    [0, 0, 2, 1, 2],\n",
    "    [0, 1, 0, 2, -1],\n",
    "    [1, 2, 0, -2, 0],\n",
    "    [0, 0, 0, -1, 1],\n",
    "    [0, 1, -1, 1, -1]\n",
    "])\n",
    "\n",
    "b = numpy.array([1, 1, -4, -2 , -1])\n",
    "\n",
    "u, v, w, x, y = numpy.linalg.solve(a, b)\n",
    "print(u, v, w, x, y)\n",
    "print(round(u), round(v), round(w), round(x), round(y))"
   ]
  }
 ],
 "metadata": {
  "kernelspec": {
   "display_name": "Python 3.10.6 64-bit",
   "language": "python",
   "name": "python3"
  },
  "language_info": {
   "codemirror_mode": {
    "name": "ipython",
    "version": 3
   },
   "file_extension": ".py",
   "mimetype": "text/x-python",
   "name": "python",
   "nbconvert_exporter": "python",
   "pygments_lexer": "ipython3",
   "version": "3.10.6"
  },
  "orig_nbformat": 4,
  "vscode": {
   "interpreter": {
    "hash": "6fff6653d2e8d1708d6cf49bd9b145b1784fc75233edee07bc358c156e76e180"
   }
  }
 },
 "nbformat": 4,
 "nbformat_minor": 2
}
